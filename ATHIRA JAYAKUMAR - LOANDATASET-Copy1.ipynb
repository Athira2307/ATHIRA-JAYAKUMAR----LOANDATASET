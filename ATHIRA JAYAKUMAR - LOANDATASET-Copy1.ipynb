{
 "cells": [
  {
   "cell_type": "code",
   "execution_count": 1,
   "id": "5cf1a58f",
   "metadata": {},
   "outputs": [],
   "source": [
    "#importing libraries.\n",
    "import pandas as pd\n",
    "import numpy as np\n",
    "import matplotlib.pyplot as plt\n",
    "import seaborn as sns\n",
    "from sklearn.preprocessing import LabelEncoder\n",
    "from sklearn.model_selection import train_test_split\n",
    "from sklearn.metrics import confusion_matrix, accuracy_score, precision_score, recall_score"
   ]
  },
  {
   "cell_type": "code",
   "execution_count": 2,
   "id": "f969e23c",
   "metadata": {},
   "outputs": [],
   "source": [
    "# read the dataset.\n",
    "data = pd.read_csv(\"loan_dataset.csv\")"
   ]
  },
  {
   "cell_type": "code",
   "execution_count": 3,
   "id": "3506da4d",
   "metadata": {},
   "outputs": [
    {
     "data": {
      "text/html": [
       "<div>\n",
       "<style scoped>\n",
       "    .dataframe tbody tr th:only-of-type {\n",
       "        vertical-align: middle;\n",
       "    }\n",
       "\n",
       "    .dataframe tbody tr th {\n",
       "        vertical-align: top;\n",
       "    }\n",
       "\n",
       "    .dataframe thead th {\n",
       "        text-align: right;\n",
       "    }\n",
       "</style>\n",
       "<table border=\"1\" class=\"dataframe\">\n",
       "  <thead>\n",
       "    <tr style=\"text-align: right;\">\n",
       "      <th></th>\n",
       "      <th>loan_id</th>\n",
       "      <th>source</th>\n",
       "      <th>financial_institution</th>\n",
       "      <th>interest_rate</th>\n",
       "      <th>unpaid_principal_bal</th>\n",
       "      <th>loan_term</th>\n",
       "      <th>origination_date</th>\n",
       "      <th>first_payment_date</th>\n",
       "      <th>loan_to_value</th>\n",
       "      <th>number_of_borrowers</th>\n",
       "      <th>...</th>\n",
       "      <th>m4</th>\n",
       "      <th>m5</th>\n",
       "      <th>m6</th>\n",
       "      <th>m7</th>\n",
       "      <th>m8</th>\n",
       "      <th>m9</th>\n",
       "      <th>m10</th>\n",
       "      <th>m11</th>\n",
       "      <th>m12</th>\n",
       "      <th>m13</th>\n",
       "    </tr>\n",
       "  </thead>\n",
       "  <tbody>\n",
       "    <tr>\n",
       "      <th>0</th>\n",
       "      <td>268055008619</td>\n",
       "      <td>Z</td>\n",
       "      <td>Turner, Baldwin and Rhodes</td>\n",
       "      <td>4.250</td>\n",
       "      <td>214000</td>\n",
       "      <td>360</td>\n",
       "      <td>2012-03-01</td>\n",
       "      <td>05/2012</td>\n",
       "      <td>95</td>\n",
       "      <td>1.0</td>\n",
       "      <td>...</td>\n",
       "      <td>0</td>\n",
       "      <td>0</td>\n",
       "      <td>0</td>\n",
       "      <td>1</td>\n",
       "      <td>0</td>\n",
       "      <td>0</td>\n",
       "      <td>0</td>\n",
       "      <td>0</td>\n",
       "      <td>0</td>\n",
       "      <td>1</td>\n",
       "    </tr>\n",
       "    <tr>\n",
       "      <th>1</th>\n",
       "      <td>672831657627</td>\n",
       "      <td>Y</td>\n",
       "      <td>Swanson, Newton and Miller</td>\n",
       "      <td>4.875</td>\n",
       "      <td>144000</td>\n",
       "      <td>360</td>\n",
       "      <td>2012-01-01</td>\n",
       "      <td>03/2012</td>\n",
       "      <td>72</td>\n",
       "      <td>1.0</td>\n",
       "      <td>...</td>\n",
       "      <td>0</td>\n",
       "      <td>0</td>\n",
       "      <td>0</td>\n",
       "      <td>0</td>\n",
       "      <td>0</td>\n",
       "      <td>0</td>\n",
       "      <td>0</td>\n",
       "      <td>1</td>\n",
       "      <td>0</td>\n",
       "      <td>1</td>\n",
       "    </tr>\n",
       "    <tr>\n",
       "      <th>2</th>\n",
       "      <td>742515242108</td>\n",
       "      <td>Z</td>\n",
       "      <td>Thornton-Davis</td>\n",
       "      <td>3.250</td>\n",
       "      <td>366000</td>\n",
       "      <td>180</td>\n",
       "      <td>2012-01-01</td>\n",
       "      <td>03/2012</td>\n",
       "      <td>49</td>\n",
       "      <td>1.0</td>\n",
       "      <td>...</td>\n",
       "      <td>0</td>\n",
       "      <td>0</td>\n",
       "      <td>0</td>\n",
       "      <td>0</td>\n",
       "      <td>0</td>\n",
       "      <td>0</td>\n",
       "      <td>0</td>\n",
       "      <td>0</td>\n",
       "      <td>0</td>\n",
       "      <td>1</td>\n",
       "    </tr>\n",
       "    <tr>\n",
       "      <th>3</th>\n",
       "      <td>601385667462</td>\n",
       "      <td>X</td>\n",
       "      <td>OTHER</td>\n",
       "      <td>4.750</td>\n",
       "      <td>135000</td>\n",
       "      <td>360</td>\n",
       "      <td>2012-02-01</td>\n",
       "      <td>04/2012</td>\n",
       "      <td>46</td>\n",
       "      <td>2.0</td>\n",
       "      <td>...</td>\n",
       "      <td>0</td>\n",
       "      <td>0</td>\n",
       "      <td>0</td>\n",
       "      <td>0</td>\n",
       "      <td>0</td>\n",
       "      <td>1</td>\n",
       "      <td>1</td>\n",
       "      <td>1</td>\n",
       "      <td>1</td>\n",
       "      <td>1</td>\n",
       "    </tr>\n",
       "    <tr>\n",
       "      <th>4</th>\n",
       "      <td>273870029961</td>\n",
       "      <td>X</td>\n",
       "      <td>OTHER</td>\n",
       "      <td>4.750</td>\n",
       "      <td>124000</td>\n",
       "      <td>360</td>\n",
       "      <td>2012-02-01</td>\n",
       "      <td>04/2012</td>\n",
       "      <td>80</td>\n",
       "      <td>1.0</td>\n",
       "      <td>...</td>\n",
       "      <td>3</td>\n",
       "      <td>4</td>\n",
       "      <td>5</td>\n",
       "      <td>6</td>\n",
       "      <td>7</td>\n",
       "      <td>8</td>\n",
       "      <td>9</td>\n",
       "      <td>10</td>\n",
       "      <td>11</td>\n",
       "      <td>1</td>\n",
       "    </tr>\n",
       "  </tbody>\n",
       "</table>\n",
       "<p>5 rows × 29 columns</p>\n",
       "</div>"
      ],
      "text/plain": [
       "        loan_id source       financial_institution  interest_rate  \\\n",
       "0  268055008619      Z  Turner, Baldwin and Rhodes          4.250   \n",
       "1  672831657627      Y  Swanson, Newton and Miller          4.875   \n",
       "2  742515242108      Z              Thornton-Davis          3.250   \n",
       "3  601385667462      X                       OTHER          4.750   \n",
       "4  273870029961      X                       OTHER          4.750   \n",
       "\n",
       "   unpaid_principal_bal  loan_term origination_date first_payment_date  \\\n",
       "0                214000        360       2012-03-01            05/2012   \n",
       "1                144000        360       2012-01-01            03/2012   \n",
       "2                366000        180       2012-01-01            03/2012   \n",
       "3                135000        360       2012-02-01            04/2012   \n",
       "4                124000        360       2012-02-01            04/2012   \n",
       "\n",
       "   loan_to_value  number_of_borrowers  ...  m4  m5 m6  m7  m8  m9  m10  m11  \\\n",
       "0             95                  1.0  ...   0   0  0   1   0   0    0    0   \n",
       "1             72                  1.0  ...   0   0  0   0   0   0    0    1   \n",
       "2             49                  1.0  ...   0   0  0   0   0   0    0    0   \n",
       "3             46                  2.0  ...   0   0  0   0   0   1    1    1   \n",
       "4             80                  1.0  ...   3   4  5   6   7   8    9   10   \n",
       "\n",
       "   m12  m13  \n",
       "0    0    1  \n",
       "1    0    1  \n",
       "2    0    1  \n",
       "3    1    1  \n",
       "4   11    1  \n",
       "\n",
       "[5 rows x 29 columns]"
      ]
     },
     "execution_count": 3,
     "metadata": {},
     "output_type": "execute_result"
    }
   ],
   "source": [
    "data.head()"
   ]
  },
  {
   "cell_type": "code",
   "execution_count": 4,
   "id": "2760d2b8",
   "metadata": {},
   "outputs": [
    {
     "data": {
      "text/plain": [
       "(116058, 29)"
      ]
     },
     "execution_count": 4,
     "metadata": {},
     "output_type": "execute_result"
    }
   ],
   "source": [
    "# shape of dataset ie,rows and columns.\n",
    "data.shape"
   ]
  },
  {
   "cell_type": "code",
   "execution_count": 5,
   "id": "e47070bb",
   "metadata": {},
   "outputs": [
    {
     "name": "stdout",
     "output_type": "stream",
     "text": [
      "<class 'pandas.core.frame.DataFrame'>\n",
      "RangeIndex: 116058 entries, 0 to 116057\n",
      "Data columns (total 29 columns):\n",
      " #   Column                    Non-Null Count   Dtype  \n",
      "---  ------                    --------------   -----  \n",
      " 0   loan_id                   116058 non-null  int64  \n",
      " 1   source                    116058 non-null  object \n",
      " 2   financial_institution     116058 non-null  object \n",
      " 3   interest_rate             116058 non-null  float64\n",
      " 4   unpaid_principal_bal      116058 non-null  int64  \n",
      " 5   loan_term                 116058 non-null  int64  \n",
      " 6   origination_date          116058 non-null  object \n",
      " 7   first_payment_date        116058 non-null  object \n",
      " 8   loan_to_value             116058 non-null  int64  \n",
      " 9   number_of_borrowers       116058 non-null  float64\n",
      " 10  debt_to_income_ratio      116058 non-null  float64\n",
      " 11  borrower_credit_score     116058 non-null  float64\n",
      " 12  loan_purpose              116058 non-null  object \n",
      " 13  insurance_percent         116058 non-null  float64\n",
      " 14  co-borrower_credit_score  116058 non-null  float64\n",
      " 15  insurance_type            116058 non-null  float64\n",
      " 16  m1                        116058 non-null  int64  \n",
      " 17  m2                        116058 non-null  int64  \n",
      " 18  m3                        116058 non-null  int64  \n",
      " 19  m4                        116058 non-null  int64  \n",
      " 20  m5                        116058 non-null  int64  \n",
      " 21  m6                        116058 non-null  int64  \n",
      " 22  m7                        116058 non-null  int64  \n",
      " 23  m8                        116058 non-null  int64  \n",
      " 24  m9                        116058 non-null  int64  \n",
      " 25  m10                       116058 non-null  int64  \n",
      " 26  m11                       116058 non-null  int64  \n",
      " 27  m12                       116058 non-null  int64  \n",
      " 28  m13                       116058 non-null  int64  \n",
      "dtypes: float64(7), int64(17), object(5)\n",
      "memory usage: 25.7+ MB\n"
     ]
    }
   ],
   "source": [
    "data.info()"
   ]
  },
  {
   "cell_type": "code",
   "execution_count": 6,
   "id": "a82744b7",
   "metadata": {},
   "outputs": [
    {
     "data": {
      "text/plain": [
       "loan_id                     0\n",
       "source                      0\n",
       "financial_institution       0\n",
       "interest_rate               0\n",
       "unpaid_principal_bal        0\n",
       "loan_term                   0\n",
       "origination_date            0\n",
       "first_payment_date          0\n",
       "loan_to_value               0\n",
       "number_of_borrowers         0\n",
       "debt_to_income_ratio        0\n",
       "borrower_credit_score       0\n",
       "loan_purpose                0\n",
       "insurance_percent           0\n",
       "co-borrower_credit_score    0\n",
       "insurance_type              0\n",
       "m1                          0\n",
       "m2                          0\n",
       "m3                          0\n",
       "m4                          0\n",
       "m5                          0\n",
       "m6                          0\n",
       "m7                          0\n",
       "m8                          0\n",
       "m9                          0\n",
       "m10                         0\n",
       "m11                         0\n",
       "m12                         0\n",
       "m13                         0\n",
       "dtype: int64"
      ]
     },
     "execution_count": 6,
     "metadata": {},
     "output_type": "execute_result"
    }
   ],
   "source": [
    "# check for null values\n",
    "data.isna().sum()"
   ]
  },
  {
   "cell_type": "code",
   "execution_count": 7,
   "id": "f901a363",
   "metadata": {},
   "outputs": [
    {
     "data": {
      "text/plain": [
       "loan_id                       int64\n",
       "source                       object\n",
       "financial_institution        object\n",
       "interest_rate               float64\n",
       "unpaid_principal_bal          int64\n",
       "loan_term                     int64\n",
       "origination_date             object\n",
       "first_payment_date           object\n",
       "loan_to_value                 int64\n",
       "number_of_borrowers         float64\n",
       "debt_to_income_ratio        float64\n",
       "borrower_credit_score       float64\n",
       "loan_purpose                 object\n",
       "insurance_percent           float64\n",
       "co-borrower_credit_score    float64\n",
       "insurance_type              float64\n",
       "m1                            int64\n",
       "m2                            int64\n",
       "m3                            int64\n",
       "m4                            int64\n",
       "m5                            int64\n",
       "m6                            int64\n",
       "m7                            int64\n",
       "m8                            int64\n",
       "m9                            int64\n",
       "m10                           int64\n",
       "m11                           int64\n",
       "m12                           int64\n",
       "m13                           int64\n",
       "dtype: object"
      ]
     },
     "execution_count": 7,
     "metadata": {},
     "output_type": "execute_result"
    }
   ],
   "source": [
    "data.dtypes"
   ]
  },
  {
   "cell_type": "code",
   "execution_count": 8,
   "id": "bbe2c020",
   "metadata": {},
   "outputs": [
    {
     "data": {
      "text/html": [
       "<div>\n",
       "<style scoped>\n",
       "    .dataframe tbody tr th:only-of-type {\n",
       "        vertical-align: middle;\n",
       "    }\n",
       "\n",
       "    .dataframe tbody tr th {\n",
       "        vertical-align: top;\n",
       "    }\n",
       "\n",
       "    .dataframe thead th {\n",
       "        text-align: right;\n",
       "    }\n",
       "</style>\n",
       "<table border=\"1\" class=\"dataframe\">\n",
       "  <thead>\n",
       "    <tr style=\"text-align: right;\">\n",
       "      <th></th>\n",
       "      <th>loan_id</th>\n",
       "      <th>interest_rate</th>\n",
       "      <th>unpaid_principal_bal</th>\n",
       "      <th>loan_term</th>\n",
       "      <th>loan_to_value</th>\n",
       "      <th>number_of_borrowers</th>\n",
       "      <th>debt_to_income_ratio</th>\n",
       "      <th>borrower_credit_score</th>\n",
       "      <th>insurance_percent</th>\n",
       "      <th>co-borrower_credit_score</th>\n",
       "      <th>...</th>\n",
       "      <th>m4</th>\n",
       "      <th>m5</th>\n",
       "      <th>m6</th>\n",
       "      <th>m7</th>\n",
       "      <th>m8</th>\n",
       "      <th>m9</th>\n",
       "      <th>m10</th>\n",
       "      <th>m11</th>\n",
       "      <th>m12</th>\n",
       "      <th>m13</th>\n",
       "    </tr>\n",
       "  </thead>\n",
       "  <tbody>\n",
       "    <tr>\n",
       "      <th>count</th>\n",
       "      <td>1.160580e+05</td>\n",
       "      <td>116058.000000</td>\n",
       "      <td>1.160580e+05</td>\n",
       "      <td>116058.000000</td>\n",
       "      <td>116058.000000</td>\n",
       "      <td>116058.000000</td>\n",
       "      <td>116058.000000</td>\n",
       "      <td>116058.000000</td>\n",
       "      <td>116058.000000</td>\n",
       "      <td>116058.000000</td>\n",
       "      <td>...</td>\n",
       "      <td>116058.000000</td>\n",
       "      <td>116058.000000</td>\n",
       "      <td>116058.000000</td>\n",
       "      <td>116058.000000</td>\n",
       "      <td>116058.000000</td>\n",
       "      <td>116058.000000</td>\n",
       "      <td>116058.000000</td>\n",
       "      <td>116058.000000</td>\n",
       "      <td>116058.000000</td>\n",
       "      <td>116058.000000</td>\n",
       "    </tr>\n",
       "    <tr>\n",
       "      <th>mean</th>\n",
       "      <td>5.494155e+11</td>\n",
       "      <td>3.868961</td>\n",
       "      <td>2.082262e+05</td>\n",
       "      <td>292.280997</td>\n",
       "      <td>67.431939</td>\n",
       "      <td>1.593186</td>\n",
       "      <td>30.742293</td>\n",
       "      <td>769.926778</td>\n",
       "      <td>2.786288</td>\n",
       "      <td>459.611565</td>\n",
       "      <td>...</td>\n",
       "      <td>0.002180</td>\n",
       "      <td>0.003533</td>\n",
       "      <td>0.003421</td>\n",
       "      <td>0.004162</td>\n",
       "      <td>0.004825</td>\n",
       "      <td>0.005359</td>\n",
       "      <td>0.006617</td>\n",
       "      <td>0.007109</td>\n",
       "      <td>0.008065</td>\n",
       "      <td>0.005480</td>\n",
       "    </tr>\n",
       "    <tr>\n",
       "      <th>std</th>\n",
       "      <td>2.597560e+11</td>\n",
       "      <td>0.461020</td>\n",
       "      <td>1.146851e+05</td>\n",
       "      <td>89.762415</td>\n",
       "      <td>17.291719</td>\n",
       "      <td>0.491242</td>\n",
       "      <td>9.730798</td>\n",
       "      <td>42.210706</td>\n",
       "      <td>8.096464</td>\n",
       "      <td>381.946926</td>\n",
       "      <td>...</td>\n",
       "      <td>0.062161</td>\n",
       "      <td>0.082638</td>\n",
       "      <td>0.087553</td>\n",
       "      <td>0.100961</td>\n",
       "      <td>0.113128</td>\n",
       "      <td>0.128242</td>\n",
       "      <td>0.148430</td>\n",
       "      <td>0.162884</td>\n",
       "      <td>0.178128</td>\n",
       "      <td>0.073824</td>\n",
       "    </tr>\n",
       "    <tr>\n",
       "      <th>min</th>\n",
       "      <td>1.000009e+11</td>\n",
       "      <td>2.250000</td>\n",
       "      <td>1.100000e+04</td>\n",
       "      <td>60.000000</td>\n",
       "      <td>6.000000</td>\n",
       "      <td>1.000000</td>\n",
       "      <td>1.000000</td>\n",
       "      <td>0.000000</td>\n",
       "      <td>0.000000</td>\n",
       "      <td>0.000000</td>\n",
       "      <td>...</td>\n",
       "      <td>0.000000</td>\n",
       "      <td>0.000000</td>\n",
       "      <td>0.000000</td>\n",
       "      <td>0.000000</td>\n",
       "      <td>0.000000</td>\n",
       "      <td>0.000000</td>\n",
       "      <td>0.000000</td>\n",
       "      <td>0.000000</td>\n",
       "      <td>0.000000</td>\n",
       "      <td>0.000000</td>\n",
       "    </tr>\n",
       "    <tr>\n",
       "      <th>25%</th>\n",
       "      <td>3.244656e+11</td>\n",
       "      <td>3.500000</td>\n",
       "      <td>1.200000e+05</td>\n",
       "      <td>180.000000</td>\n",
       "      <td>57.000000</td>\n",
       "      <td>1.000000</td>\n",
       "      <td>23.000000</td>\n",
       "      <td>751.000000</td>\n",
       "      <td>0.000000</td>\n",
       "      <td>0.000000</td>\n",
       "      <td>...</td>\n",
       "      <td>0.000000</td>\n",
       "      <td>0.000000</td>\n",
       "      <td>0.000000</td>\n",
       "      <td>0.000000</td>\n",
       "      <td>0.000000</td>\n",
       "      <td>0.000000</td>\n",
       "      <td>0.000000</td>\n",
       "      <td>0.000000</td>\n",
       "      <td>0.000000</td>\n",
       "      <td>0.000000</td>\n",
       "    </tr>\n",
       "    <tr>\n",
       "      <th>50%</th>\n",
       "      <td>5.486239e+11</td>\n",
       "      <td>3.875000</td>\n",
       "      <td>1.830000e+05</td>\n",
       "      <td>360.000000</td>\n",
       "      <td>72.000000</td>\n",
       "      <td>2.000000</td>\n",
       "      <td>31.000000</td>\n",
       "      <td>782.000000</td>\n",
       "      <td>0.000000</td>\n",
       "      <td>740.000000</td>\n",
       "      <td>...</td>\n",
       "      <td>0.000000</td>\n",
       "      <td>0.000000</td>\n",
       "      <td>0.000000</td>\n",
       "      <td>0.000000</td>\n",
       "      <td>0.000000</td>\n",
       "      <td>0.000000</td>\n",
       "      <td>0.000000</td>\n",
       "      <td>0.000000</td>\n",
       "      <td>0.000000</td>\n",
       "      <td>0.000000</td>\n",
       "    </tr>\n",
       "    <tr>\n",
       "      <th>75%</th>\n",
       "      <td>7.743034e+11</td>\n",
       "      <td>4.125000</td>\n",
       "      <td>2.780000e+05</td>\n",
       "      <td>360.000000</td>\n",
       "      <td>80.000000</td>\n",
       "      <td>2.000000</td>\n",
       "      <td>39.000000</td>\n",
       "      <td>800.000000</td>\n",
       "      <td>0.000000</td>\n",
       "      <td>791.000000</td>\n",
       "      <td>...</td>\n",
       "      <td>0.000000</td>\n",
       "      <td>0.000000</td>\n",
       "      <td>0.000000</td>\n",
       "      <td>0.000000</td>\n",
       "      <td>0.000000</td>\n",
       "      <td>0.000000</td>\n",
       "      <td>0.000000</td>\n",
       "      <td>0.000000</td>\n",
       "      <td>0.000000</td>\n",
       "      <td>0.000000</td>\n",
       "    </tr>\n",
       "    <tr>\n",
       "      <th>max</th>\n",
       "      <td>9.999971e+11</td>\n",
       "      <td>6.750000</td>\n",
       "      <td>1.200000e+06</td>\n",
       "      <td>360.000000</td>\n",
       "      <td>97.000000</td>\n",
       "      <td>2.000000</td>\n",
       "      <td>64.000000</td>\n",
       "      <td>840.000000</td>\n",
       "      <td>40.000000</td>\n",
       "      <td>836.000000</td>\n",
       "      <td>...</td>\n",
       "      <td>6.000000</td>\n",
       "      <td>7.000000</td>\n",
       "      <td>8.000000</td>\n",
       "      <td>9.000000</td>\n",
       "      <td>10.000000</td>\n",
       "      <td>11.000000</td>\n",
       "      <td>12.000000</td>\n",
       "      <td>13.000000</td>\n",
       "      <td>14.000000</td>\n",
       "      <td>1.000000</td>\n",
       "    </tr>\n",
       "  </tbody>\n",
       "</table>\n",
       "<p>8 rows × 24 columns</p>\n",
       "</div>"
      ],
      "text/plain": [
       "            loan_id  interest_rate  unpaid_principal_bal      loan_term  \\\n",
       "count  1.160580e+05  116058.000000          1.160580e+05  116058.000000   \n",
       "mean   5.494155e+11       3.868961          2.082262e+05     292.280997   \n",
       "std    2.597560e+11       0.461020          1.146851e+05      89.762415   \n",
       "min    1.000009e+11       2.250000          1.100000e+04      60.000000   \n",
       "25%    3.244656e+11       3.500000          1.200000e+05     180.000000   \n",
       "50%    5.486239e+11       3.875000          1.830000e+05     360.000000   \n",
       "75%    7.743034e+11       4.125000          2.780000e+05     360.000000   \n",
       "max    9.999971e+11       6.750000          1.200000e+06     360.000000   \n",
       "\n",
       "       loan_to_value  number_of_borrowers  debt_to_income_ratio  \\\n",
       "count  116058.000000        116058.000000         116058.000000   \n",
       "mean       67.431939             1.593186             30.742293   \n",
       "std        17.291719             0.491242              9.730798   \n",
       "min         6.000000             1.000000              1.000000   \n",
       "25%        57.000000             1.000000             23.000000   \n",
       "50%        72.000000             2.000000             31.000000   \n",
       "75%        80.000000             2.000000             39.000000   \n",
       "max        97.000000             2.000000             64.000000   \n",
       "\n",
       "       borrower_credit_score  insurance_percent  co-borrower_credit_score  \\\n",
       "count          116058.000000      116058.000000             116058.000000   \n",
       "mean              769.926778           2.786288                459.611565   \n",
       "std                42.210706           8.096464                381.946926   \n",
       "min                 0.000000           0.000000                  0.000000   \n",
       "25%               751.000000           0.000000                  0.000000   \n",
       "50%               782.000000           0.000000                740.000000   \n",
       "75%               800.000000           0.000000                791.000000   \n",
       "max               840.000000          40.000000                836.000000   \n",
       "\n",
       "       ...             m4             m5             m6             m7  \\\n",
       "count  ...  116058.000000  116058.000000  116058.000000  116058.000000   \n",
       "mean   ...       0.002180       0.003533       0.003421       0.004162   \n",
       "std    ...       0.062161       0.082638       0.087553       0.100961   \n",
       "min    ...       0.000000       0.000000       0.000000       0.000000   \n",
       "25%    ...       0.000000       0.000000       0.000000       0.000000   \n",
       "50%    ...       0.000000       0.000000       0.000000       0.000000   \n",
       "75%    ...       0.000000       0.000000       0.000000       0.000000   \n",
       "max    ...       6.000000       7.000000       8.000000       9.000000   \n",
       "\n",
       "                  m8             m9            m10            m11  \\\n",
       "count  116058.000000  116058.000000  116058.000000  116058.000000   \n",
       "mean        0.004825       0.005359       0.006617       0.007109   \n",
       "std         0.113128       0.128242       0.148430       0.162884   \n",
       "min         0.000000       0.000000       0.000000       0.000000   \n",
       "25%         0.000000       0.000000       0.000000       0.000000   \n",
       "50%         0.000000       0.000000       0.000000       0.000000   \n",
       "75%         0.000000       0.000000       0.000000       0.000000   \n",
       "max        10.000000      11.000000      12.000000      13.000000   \n",
       "\n",
       "                 m12            m13  \n",
       "count  116058.000000  116058.000000  \n",
       "mean        0.008065       0.005480  \n",
       "std         0.178128       0.073824  \n",
       "min         0.000000       0.000000  \n",
       "25%         0.000000       0.000000  \n",
       "50%         0.000000       0.000000  \n",
       "75%         0.000000       0.000000  \n",
       "max        14.000000       1.000000  \n",
       "\n",
       "[8 rows x 24 columns]"
      ]
     },
     "execution_count": 8,
     "metadata": {},
     "output_type": "execute_result"
    }
   ],
   "source": [
    "data.describe()"
   ]
  },
  {
   "cell_type": "code",
   "execution_count": 9,
   "id": "4dad6334",
   "metadata": {},
   "outputs": [],
   "source": [
    "## check number unique values in various columns."
   ]
  },
  {
   "cell_type": "code",
   "execution_count": 10,
   "id": "80fadffa",
   "metadata": {},
   "outputs": [
    {
     "data": {
      "text/plain": [
       "116058"
      ]
     },
     "execution_count": 10,
     "metadata": {},
     "output_type": "execute_result"
    }
   ],
   "source": [
    "data['loan_id'].nunique()"
   ]
  },
  {
   "cell_type": "code",
   "execution_count": 11,
   "id": "315529e7",
   "metadata": {},
   "outputs": [
    {
     "data": {
      "text/plain": [
       "3"
      ]
     },
     "execution_count": 11,
     "metadata": {},
     "output_type": "execute_result"
    }
   ],
   "source": [
    "data['origination_date'].nunique()"
   ]
  },
  {
   "cell_type": "code",
   "execution_count": 12,
   "id": "4690aec1",
   "metadata": {},
   "outputs": [
    {
     "data": {
      "text/plain": [
       "4"
      ]
     },
     "execution_count": 12,
     "metadata": {},
     "output_type": "execute_result"
    }
   ],
   "source": [
    "data['first_payment_date'].nunique()"
   ]
  },
  {
   "cell_type": "code",
   "execution_count": 13,
   "id": "18cb6349",
   "metadata": {},
   "outputs": [
    {
     "data": {
      "text/plain": [
       "3"
      ]
     },
     "execution_count": 13,
     "metadata": {},
     "output_type": "execute_result"
    }
   ],
   "source": [
    "data['source'].nunique()"
   ]
  },
  {
   "cell_type": "code",
   "execution_count": 14,
   "id": "a4387947",
   "metadata": {},
   "outputs": [
    {
     "data": {
      "text/plain": [
       "19"
      ]
     },
     "execution_count": 14,
     "metadata": {},
     "output_type": "execute_result"
    }
   ],
   "source": [
    "data['financial_institution'].nunique()"
   ]
  },
  {
   "cell_type": "code",
   "execution_count": 15,
   "id": "6d6ad33f",
   "metadata": {},
   "outputs": [
    {
     "data": {
      "text/plain": [
       "array(['C86', 'B12', 'A23'], dtype=object)"
      ]
     },
     "execution_count": 15,
     "metadata": {},
     "output_type": "execute_result"
    }
   ],
   "source": [
    "data['loan_purpose'].unique()"
   ]
  },
  {
   "cell_type": "code",
   "execution_count": 16,
   "id": "442454f7",
   "metadata": {},
   "outputs": [
    {
     "data": {
      "text/plain": [
       "array(['2012-03-01', '2012-01-01', '2012-02-01'], dtype=object)"
      ]
     },
     "execution_count": 16,
     "metadata": {},
     "output_type": "execute_result"
    }
   ],
   "source": [
    "data['origination_date'].unique()"
   ]
  },
  {
   "cell_type": "code",
   "execution_count": 17,
   "id": "2eab3641",
   "metadata": {},
   "outputs": [
    {
     "data": {
      "text/plain": [
       "Index(['loan_id', 'source', 'financial_institution', 'interest_rate',\n",
       "       'unpaid_principal_bal', 'loan_term', 'origination_date',\n",
       "       'first_payment_date', 'loan_to_value', 'number_of_borrowers',\n",
       "       'debt_to_income_ratio', 'borrower_credit_score', 'loan_purpose',\n",
       "       'insurance_percent', 'co-borrower_credit_score', 'insurance_type', 'm1',\n",
       "       'm2', 'm3', 'm4', 'm5', 'm6', 'm7', 'm8', 'm9', 'm10', 'm11', 'm12',\n",
       "       'm13'],\n",
       "      dtype='object')"
      ]
     },
     "execution_count": 17,
     "metadata": {},
     "output_type": "execute_result"
    }
   ],
   "source": [
    "data.columns"
   ]
  },
  {
   "cell_type": "code",
   "execution_count": 18,
   "id": "afb9e733",
   "metadata": {},
   "outputs": [],
   "source": [
    "data1 = data.drop(['loan_id','number_of_borrowers','origination_date','first_payment_date'], axis=1)"
   ]
  },
  {
   "cell_type": "code",
   "execution_count": 19,
   "id": "fd6901e0",
   "metadata": {},
   "outputs": [
    {
     "data": {
      "text/plain": [
       "Index(['source', 'financial_institution', 'interest_rate',\n",
       "       'unpaid_principal_bal', 'loan_term', 'loan_to_value',\n",
       "       'debt_to_income_ratio', 'borrower_credit_score', 'loan_purpose',\n",
       "       'insurance_percent', 'co-borrower_credit_score', 'insurance_type', 'm1',\n",
       "       'm2', 'm3', 'm4', 'm5', 'm6', 'm7', 'm8', 'm9', 'm10', 'm11', 'm12',\n",
       "       'm13'],\n",
       "      dtype='object')"
      ]
     },
     "execution_count": 19,
     "metadata": {},
     "output_type": "execute_result"
    }
   ],
   "source": [
    "data1.columns"
   ]
  },
  {
   "cell_type": "code",
   "execution_count": 20,
   "id": "72ade072",
   "metadata": {},
   "outputs": [],
   "source": [
    "# label encoding"
   ]
  },
  {
   "cell_type": "code",
   "execution_count": 21,
   "id": "94b5c74d",
   "metadata": {},
   "outputs": [],
   "source": [
    "le = LabelEncoder()\n",
    "data1['source'] = le.fit_transform(data1['source'])\n",
    "data1['financial_institution'] = le.fit_transform(data1['financial_institution'])\n",
    "data1['loan_purpose'] = le.fit_transform(data1['loan_purpose'])"
   ]
  },
  {
   "cell_type": "code",
   "execution_count": 22,
   "id": "52f93812",
   "metadata": {},
   "outputs": [],
   "source": [
    "# split the data into feature and target\n",
    "X = data1.drop('m13',axis=1)\n",
    "y = data1['m13']"
   ]
  },
  {
   "cell_type": "code",
   "execution_count": 23,
   "id": "bb595dae",
   "metadata": {},
   "outputs": [],
   "source": [
    "# split the data into train and test \n",
    "X_train, X_test, y_train, y_test = train_test_split(X,y,test_size=0.2,random_state=42)"
   ]
  },
  {
   "cell_type": "markdown",
   "id": "5d213d24",
   "metadata": {},
   "source": [
    "### LOGISTIC REGRESSION"
   ]
  },
  {
   "cell_type": "code",
   "execution_count": 24,
   "id": "cfdc91ce",
   "metadata": {},
   "outputs": [],
   "source": [
    "from sklearn.linear_model import LogisticRegression"
   ]
  },
  {
   "cell_type": "code",
   "execution_count": 25,
   "id": "0f149d3d",
   "metadata": {},
   "outputs": [],
   "source": [
    "log_reg = LogisticRegression()\n",
    "log_reg_model = log_reg.fit(X_train, y_train)\n",
    "log_pred = log_reg_model.predict(X_test)"
   ]
  },
  {
   "cell_type": "code",
   "execution_count": 26,
   "id": "8e1b521a",
   "metadata": {},
   "outputs": [
    {
     "name": "stdout",
     "output_type": "stream",
     "text": [
      "Confusion Matrix is :  \n",
      " [[23072    12]\n",
      " [  128     0]]\n",
      "\n",
      "\n",
      "Accuracy score is :  0.9939686369119421\n"
     ]
    }
   ],
   "source": [
    "print(\"Confusion Matrix is :  \\n\", confusion_matrix(y_test,log_pred))\n",
    "print(\"\\n\")\n",
    "print(\"Accuracy score is : \",accuracy_score(y_test,log_pred))"
   ]
  },
  {
   "cell_type": "code",
   "execution_count": 27,
   "id": "300101c6",
   "metadata": {},
   "outputs": [
    {
     "data": {
      "text/plain": [
       "0.0"
      ]
     },
     "execution_count": 27,
     "metadata": {},
     "output_type": "execute_result"
    }
   ],
   "source": [
    "precision_score( y_test,log_pred)\n"
   ]
  },
  {
   "cell_type": "code",
   "execution_count": 28,
   "id": "1a6721ea",
   "metadata": {},
   "outputs": [
    {
     "data": {
      "text/plain": [
       "0.0"
      ]
     },
     "execution_count": 28,
     "metadata": {},
     "output_type": "execute_result"
    }
   ],
   "source": [
    "recall_score( y_test,log_pred)"
   ]
  },
  {
   "cell_type": "markdown",
   "id": "5b052aed",
   "metadata": {},
   "source": [
    "### SVM"
   ]
  },
  {
   "cell_type": "code",
   "execution_count": 29,
   "id": "9d21f558",
   "metadata": {},
   "outputs": [],
   "source": [
    "from sklearn.svm import SVC"
   ]
  },
  {
   "cell_type": "code",
   "execution_count": 30,
   "id": "d0352873",
   "metadata": {},
   "outputs": [],
   "source": [
    "svm_clf = SVC(kernel ='rbf')\n",
    "svm_clf_model = svm_clf.fit(X_train, y_train) \n",
    "svm_pred = svm_clf_model.predict(X_test)"
   ]
  },
  {
   "cell_type": "code",
   "execution_count": 31,
   "id": "2ab313c7",
   "metadata": {},
   "outputs": [
    {
     "name": "stdout",
     "output_type": "stream",
     "text": [
      "Confusion Matrix is :  \n",
      " [[23084     0]\n",
      " [  128     0]]\n",
      "\n",
      "\n",
      "Accuracy score is :  0.9944856108909185\n"
     ]
    }
   ],
   "source": [
    "print(\"Confusion Matrix is :  \\n\", confusion_matrix(y_test,svm_pred))\n",
    "print(\"\\n\")\n",
    "print(\"Accuracy score is : \",accuracy_score(y_test,svm_pred))"
   ]
  },
  {
   "cell_type": "markdown",
   "id": "48db958b",
   "metadata": {},
   "source": [
    "### KNN"
   ]
  },
  {
   "cell_type": "code",
   "execution_count": 32,
   "id": "4339e6a3",
   "metadata": {},
   "outputs": [],
   "source": [
    "from sklearn.neighbors import KNeighborsClassifier"
   ]
  },
  {
   "cell_type": "code",
   "execution_count": 33,
   "id": "85a8f960",
   "metadata": {},
   "outputs": [],
   "source": [
    "metric_k = []\n",
    "neighbors = range(3, 15)\n",
    "\n",
    "for k in neighbors:\n",
    "    classifier = KNeighborsClassifier(n_neighbors=k)\n",
    "    classifier = classifier.fit(X_train, y_train)\n",
    "    y_pred_kNN = classifier.predict(X_test)\n",
    "    acc = accuracy_score(y_test, y_pred_kNN)\n",
    "    metric_k.append(acc)"
   ]
  },
  {
   "cell_type": "code",
   "execution_count": 34,
   "id": "c9e43a0f",
   "metadata": {},
   "outputs": [
    {
     "data": {
      "image/png": "[encoded data removed]",
      "text/plain": [
       "<Figure size 432x288 with 1 Axes>"
      ]
     },
     "metadata": {
      "needs_background": "light"
     },
     "output_type": "display_data"
    }
   ],
   "source": [
    "plt.plot(neighbors, metric_k, 'o-')\n",
    "plt.xlabel('k values')\n",
    "plt.ylabel('Accuracies')\n",
    "plt.grid()\n",
    "plt.show()"
   ]
  },
  {
   "cell_type": "code",
   "execution_count": 35,
   "id": "d56fb83f",
   "metadata": {},
   "outputs": [],
   "source": [
    "classifier = KNeighborsClassifier(n_neighbors=6)\n",
    "classifier = classifier.fit(X_train, y_train)\n",
    "y_pred_kNN = classifier.predict(X_test)"
   ]
  },
  {
   "cell_type": "code",
   "execution_count": 36,
   "id": "83229246",
   "metadata": {},
   "outputs": [
    {
     "name": "stdout",
     "output_type": "stream",
     "text": [
      "Confusion Matrix is :  \n",
      " [[23084     0]\n",
      " [  128     0]]\n",
      "\n",
      "\n",
      "Accuracy score is :  0.9944856108909185\n"
     ]
    }
   ],
   "source": [
    "print(\"Confusion Matrix is :  \\n\", confusion_matrix(y_test,y_pred_kNN))\n",
    "print(\"\\n\")\n",
    "print(\"Accuracy score is : \",accuracy_score(y_test,y_pred_kNN))"
   ]
  },
  {
   "cell_type": "markdown",
   "id": "12361134",
   "metadata": {},
   "source": [
    "### DECISION TREE"
   ]
  },
  {
   "cell_type": "code",
   "execution_count": 37,
   "id": "8d38bc0d",
   "metadata": {},
   "outputs": [],
   "source": [
    "from sklearn.tree import DecisionTreeClassifier"
   ]
  },
  {
   "cell_type": "code",
   "execution_count": 38,
   "id": "66323f4e",
   "metadata": {},
   "outputs": [],
   "source": [
    "dt_clf = DecisionTreeClassifier()\n",
    "dt_clf = dt_clf.fit(X_train, y_train)\n",
    "y_pred_dt = dt_clf.predict(X_test)"
   ]
  },
  {
   "cell_type": "code",
   "execution_count": 39,
   "id": "69f501ea",
   "metadata": {},
   "outputs": [
    {
     "name": "stdout",
     "output_type": "stream",
     "text": [
      "Confusion Matrix is :  \n",
      " [[22980   104]\n",
      " [   85    43]]\n",
      "\n",
      "\n",
      "Accuracy score is :  0.9918576598311218\n"
     ]
    }
   ],
   "source": [
    "print(\"Confusion Matrix is :  \\n\", confusion_matrix(y_test,y_pred_dt))\n",
    "print(\"\\n\")\n",
    "print(\"Accuracy score is : \",accuracy_score(y_test,y_pred_dt))"
   ]
  },
  {
   "cell_type": "markdown",
   "id": "657b4d4c",
   "metadata": {},
   "source": [
    "### RANDOM FOREST"
   ]
  },
  {
   "cell_type": "code",
   "execution_count": 40,
   "id": "f26ac042",
   "metadata": {},
   "outputs": [],
   "source": [
    "from sklearn.ensemble import RandomForestClassifier"
   ]
  },
  {
   "cell_type": "code",
   "execution_count": 41,
   "id": "d9136662",
   "metadata": {},
   "outputs": [],
   "source": [
    "rf_clf = RandomForestClassifier()\n",
    "rf_clf = rf_clf.fit(X_train,y_train)\n",
    "y_pred_rf = rf_clf.predict(X_test)"
   ]
  },
  {
   "cell_type": "code",
   "execution_count": 42,
   "id": "083d5f9a",
   "metadata": {},
   "outputs": [
    {
     "name": "stdout",
     "output_type": "stream",
     "text": [
      "Confusion Matrix is :  \n",
      " [[23073    11]\n",
      " [   85    43]]\n",
      "\n",
      "\n",
      "Accuracy score is :  0.9958642081681889\n"
     ]
    }
   ],
   "source": [
    "print(\"Confusion Matrix is :  \\n\", confusion_matrix(y_test,y_pred_rf))\n",
    "print(\"\\n\")\n",
    "print(\"Accuracy score is : \",accuracy_score(y_test,y_pred_rf))"
   ]
  },
  {
   "cell_type": "markdown",
   "id": "200da720",
   "metadata": {},
   "source": [
    "##### Random Forest Classification model gives the best accuracy score ie, 99.59%."
   ]
  },
  {
   "cell_type": "markdown",
   "id": "380abba6",
   "metadata": {},
   "source": [
    "### STANDARD SCALING"
   ]
  },
  {
   "cell_type": "code",
   "execution_count": 43,
   "id": "35e88fb9",
   "metadata": {},
   "outputs": [],
   "source": [
    "# split the data into feature and target\n",
    "X = data1.drop('m13',axis=1)\n",
    "y = data1['m13']"
   ]
  },
  {
   "cell_type": "code",
   "execution_count": 44,
   "id": "9cd5c6d2",
   "metadata": {},
   "outputs": [],
   "source": [
    "from sklearn.preprocessing import StandardScaler"
   ]
  },
  {
   "cell_type": "code",
   "execution_count": 45,
   "id": "ff6eb2c2",
   "metadata": {},
   "outputs": [],
   "source": [
    "# Standard Scaling\n",
    "sc = StandardScaler()"
   ]
  },
  {
   "cell_type": "code",
   "execution_count": 46,
   "id": "84e31e13",
   "metadata": {},
   "outputs": [],
   "source": [
    "X=sc.fit_transform(X)"
   ]
  },
  {
   "cell_type": "code",
   "execution_count": 47,
   "id": "feff4e55",
   "metadata": {},
   "outputs": [],
   "source": [
    "# spliting data into training and testing\n",
    "X_train, X_test, y_train, y_test = train_test_split(X, y, test_size=0.2, random_state=42)"
   ]
  },
  {
   "cell_type": "markdown",
   "id": "a4883013",
   "metadata": {},
   "source": [
    "### LOGISTIC REGRESSION"
   ]
  },
  {
   "cell_type": "code",
   "execution_count": 48,
   "id": "d2c6a31e",
   "metadata": {},
   "outputs": [],
   "source": [
    "log_reg = LogisticRegression()\n",
    "log_reg_model = log_reg.fit(X_train, y_train)\n",
    "log_pred = log_reg_model.predict(X_test)"
   ]
  },
  {
   "cell_type": "code",
   "execution_count": 49,
   "id": "ee92cd15",
   "metadata": {},
   "outputs": [
    {
     "name": "stdout",
     "output_type": "stream",
     "text": [
      "Confusion Matrix is :  \n",
      " [[23081     3]\n",
      " [   87    41]]\n",
      "\n",
      "\n",
      "Accuracy score is :  0.996122695157677\n"
     ]
    }
   ],
   "source": [
    "print(\"Confusion Matrix is :  \\n\", confusion_matrix(y_test,log_pred))\n",
    "print(\"\\n\")\n",
    "print(\"Accuracy score is : \",accuracy_score(y_test,log_pred))"
   ]
  },
  {
   "cell_type": "markdown",
   "id": "18cba261",
   "metadata": {},
   "source": [
    "### KNN"
   ]
  },
  {
   "cell_type": "code",
   "execution_count": 50,
   "id": "0bdb1991",
   "metadata": {},
   "outputs": [],
   "source": [
    "# find the optimum k value\n",
    "metric_k = []\n",
    "neighbors = range(3, 15)\n",
    "\n",
    "for k in neighbors:\n",
    "    classifier = KNeighborsClassifier(n_neighbors=k)\n",
    "    classifier = classifier.fit(X_train, y_train)\n",
    "    y_pred_kNN = classifier.predict(X_test)\n",
    "    acc = accuracy_score(y_test, y_pred_kNN)\n",
    "    metric_k.append(acc)"
   ]
  },
  {
   "cell_type": "code",
   "execution_count": 51,
   "id": "a979a936",
   "metadata": {},
   "outputs": [
    {
     "data": {
      "image/png": "[encoded data removed]",
      "text/plain": [
       "<Figure size 432x288 with 1 Axes>"
      ]
     },
     "metadata": {
      "needs_background": "light"
     },
     "output_type": "display_data"
    }
   ],
   "source": [
    "plt.plot(neighbors, metric_k, 'o-')\n",
    "plt.xlabel('k values')\n",
    "plt.ylabel('Accuracies')\n",
    "plt.grid();"
   ]
  },
  {
   "cell_type": "code",
   "execution_count": 52,
   "id": "e635a1d9",
   "metadata": {},
   "outputs": [],
   "source": [
    "classifier = KNeighborsClassifier(n_neighbors=6)\n",
    "classifier = classifier.fit(X_train, y_train)\n",
    "y_pred_kNN = classifier.predict(X_test)"
   ]
  },
  {
   "cell_type": "code",
   "execution_count": 53,
   "id": "a0167f95",
   "metadata": {},
   "outputs": [
    {
     "name": "stdout",
     "output_type": "stream",
     "text": [
      "Confusion Matrix is :  \n",
      " [[23075     9]\n",
      " [   92    36]]\n",
      "\n",
      "\n",
      "Accuracy score is :  0.9956488023436154\n"
     ]
    }
   ],
   "source": [
    "print(\"Confusion Matrix is :  \\n\", confusion_matrix(y_test,y_pred_kNN))\n",
    "print(\"\\n\")\n",
    "print(\"Accuracy score is : \",accuracy_score(y_test,y_pred_kNN))"
   ]
  },
  {
   "cell_type": "markdown",
   "id": "7f89f50a",
   "metadata": {},
   "source": [
    "### SVM"
   ]
  },
  {
   "cell_type": "code",
   "execution_count": 54,
   "id": "6bd9d35a",
   "metadata": {},
   "outputs": [],
   "source": [
    "svm_clf = SVC(kernel ='rbf')\n",
    "svm_clf_model = svm_clf.fit(X_train, y_train) \n",
    "svm_pred = svm_clf_model.predict(X_test)"
   ]
  },
  {
   "cell_type": "code",
   "execution_count": 55,
   "id": "7b9b530e",
   "metadata": {},
   "outputs": [
    {
     "name": "stdout",
     "output_type": "stream",
     "text": [
      "Confusion Matrix is :  \n",
      " [[23080     4]\n",
      " [  114    14]]\n",
      "\n",
      "\n",
      "Accuracy score is :  0.9949164225400655\n"
     ]
    }
   ],
   "source": [
    "print(\"Confusion Matrix is :  \\n\", confusion_matrix(y_test,svm_pred))\n",
    "print(\"\\n\")\n",
    "print(\"Accuracy score is : \",accuracy_score(y_test,svm_pred))"
   ]
  },
  {
   "cell_type": "markdown",
   "id": "b15ad6b5",
   "metadata": {},
   "source": [
    "### After scaling the classification models , Logistic regression gives better accuracy score(99.61%) compared to all other models."
   ]
  },
  {
   "cell_type": "markdown",
   "id": "a3201016",
   "metadata": {},
   "source": [
    "### Therefore, Logistic regresssion is the best model."
   ]
  },
  {
   "cell_type": "code",
   "execution_count": null,
   "id": "e7b3c929",
   "metadata": {},
   "outputs": [],
   "source": []
  }
 ],
 "metadata": {
  "kernelspec": {
   "display_name": "Python 3 (ipykernel)",
   "language": "python",
   "name": "python3"
  },
  "language_info": {
   "codemirror_mode": {
    "name": "ipython",
    "version": 3
   },
   "file_extension": ".py",
   "mimetype": "text/x-python",
   "name": "python",
   "nbconvert_exporter": "python",
   "pygments_lexer": "ipython3",
   "version": "3.9.12"
  }
 },
 "nbformat": 4,
 "nbformat_minor": 5
}
